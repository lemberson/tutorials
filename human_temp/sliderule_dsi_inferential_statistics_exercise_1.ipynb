{
 "cells": [
  {
   "cell_type": "markdown",
   "metadata": {},
   "source": [
    "# What is the True Normal Human Body Temperature? \n",
    "\n",
    "#### Background\n",
    "\n",
    "The mean normal body temperature was held to be 37$^{\\circ}$C or 98.6$^{\\circ}$F for more than 120 years since it was first conceptualized and reported by Carl Wunderlich in a famous 1868 book. But, is this value statistically correct?"
   ]
  },
  {
   "cell_type": "markdown",
   "metadata": {},
   "source": [
    "<div class=\"span5 alert alert-info\">\n",
    "<h3>Exercises</h3>\n",
    "\n",
    "<p>In this exercise, you will analyze a dataset of human body temperatures and employ the concepts of hypothesis testing, confidence intervals, and statistical significance.</p>\n",
    "\n",
    "<p>Answer the following questions <b>in this notebook below and submit to your Github account</b>.</p> \n",
    "\n",
    "<ol>\n",
    "<li>  Is the distribution of body temperatures normal? \n",
    "    <ul>\n",
    "    <li> Although this is not a requirement for CLT to hold (read CLT carefully), it gives us some peace of mind that the population may also be normally distributed if we assume that this sample is representative of the population.\n",
    "    </ul>\n",
    "<li>  Is the sample size large? Are the observations independent?\n",
    "    <ul>\n",
    "    <li> Remember that this is a condition for the CLT, and hence the statistical tests we are using, to apply.\n",
    "    </ul>\n",
    "<li>  Is the true population mean really 98.6 degrees F?\n",
    "    <ul>\n",
    "    <li> Would you use a one-sample or two-sample test? Why?\n",
    "    <li> In this situation, is it appropriate to use the $t$ or $z$ statistic? \n",
    "    <li> Now try using the other test. How is the result be different? Why?\n",
    "    </ul>\n",
    "<li>  At what temperature should we consider someone's temperature to be \"abnormal\"?\n",
    "    <ul>\n",
    "    <li> Start by computing the margin of error and confidence interval.\n",
    "    </ul>\n",
    "<li>  Is there a significant difference between males and females in normal temperature?\n",
    "    <ul>\n",
    "    <li> What test did you use and why?\n",
    "    <li> Write a story with your conclusion in the context of the original problem.\n",
    "    </ul>\n",
    "</ol>\n",
    "\n",
    "You can include written notes in notebook cells using Markdown: \n",
    "   - In the control panel at the top, choose Cell > Cell Type > Markdown\n",
    "   - Markdown syntax: http://nestacms.com/docs/creating-content/markdown-cheat-sheet\n",
    "\n",
    "#### Resources\n",
    "\n",
    "+ Information and data sources: http://www.amstat.org/publications/jse/datasets/normtemp.txt, http://www.amstat.org/publications/jse/jse_data_archive.htm\n",
    "+ Markdown syntax: http://nestacms.com/docs/creating-content/markdown-cheat-sheet\n",
    "\n",
    "****"
   ]
  },
  {
   "cell_type": "code",
   "execution_count": 62,
   "metadata": {
    "collapsed": true
   },
   "outputs": [],
   "source": [
    "import pandas as pd\n",
    "import numpy as np\n",
    "import matplotlib.pyplot as plt\n",
    "%matplotlib inline\n",
    "import scipy.stats\n",
    "\n",
    "\n",
    "df = pd.read_csv('data/human_body_temperature.csv')"
   ]
  },
  {
   "cell_type": "markdown",
   "metadata": {},
   "source": [
    "# Question 1: Is the distribtuon of body temperature normal?"
   ]
  },
  {
   "cell_type": "code",
   "execution_count": 34,
   "metadata": {
    "collapsed": false
   },
   "outputs": [
    {
     "data": {
      "text/html": [
       "<div>\n",
       "<table border=\"1\" class=\"dataframe\">\n",
       "  <thead>\n",
       "    <tr style=\"text-align: right;\">\n",
       "      <th></th>\n",
       "      <th>temperature</th>\n",
       "      <th>gender</th>\n",
       "      <th>heart_rate</th>\n",
       "    </tr>\n",
       "  </thead>\n",
       "  <tbody>\n",
       "    <tr>\n",
       "      <th>0</th>\n",
       "      <td>99.3</td>\n",
       "      <td>F</td>\n",
       "      <td>68.0</td>\n",
       "    </tr>\n",
       "    <tr>\n",
       "      <th>1</th>\n",
       "      <td>98.4</td>\n",
       "      <td>F</td>\n",
       "      <td>81.0</td>\n",
       "    </tr>\n",
       "    <tr>\n",
       "      <th>2</th>\n",
       "      <td>97.8</td>\n",
       "      <td>M</td>\n",
       "      <td>73.0</td>\n",
       "    </tr>\n",
       "    <tr>\n",
       "      <th>3</th>\n",
       "      <td>99.2</td>\n",
       "      <td>F</td>\n",
       "      <td>66.0</td>\n",
       "    </tr>\n",
       "    <tr>\n",
       "      <th>4</th>\n",
       "      <td>98.0</td>\n",
       "      <td>F</td>\n",
       "      <td>73.0</td>\n",
       "    </tr>\n",
       "    <tr>\n",
       "      <th>5</th>\n",
       "      <td>99.2</td>\n",
       "      <td>M</td>\n",
       "      <td>83.0</td>\n",
       "    </tr>\n",
       "    <tr>\n",
       "      <th>6</th>\n",
       "      <td>98.0</td>\n",
       "      <td>M</td>\n",
       "      <td>71.0</td>\n",
       "    </tr>\n",
       "    <tr>\n",
       "      <th>7</th>\n",
       "      <td>98.8</td>\n",
       "      <td>M</td>\n",
       "      <td>78.0</td>\n",
       "    </tr>\n",
       "    <tr>\n",
       "      <th>8</th>\n",
       "      <td>98.4</td>\n",
       "      <td>F</td>\n",
       "      <td>84.0</td>\n",
       "    </tr>\n",
       "    <tr>\n",
       "      <th>9</th>\n",
       "      <td>98.6</td>\n",
       "      <td>F</td>\n",
       "      <td>86.0</td>\n",
       "    </tr>\n",
       "  </tbody>\n",
       "</table>\n",
       "</div>"
      ],
      "text/plain": [
       "   temperature gender  heart_rate\n",
       "0         99.3      F        68.0\n",
       "1         98.4      F        81.0\n",
       "2         97.8      M        73.0\n",
       "3         99.2      F        66.0\n",
       "4         98.0      F        73.0\n",
       "5         99.2      M        83.0\n",
       "6         98.0      M        71.0\n",
       "7         98.8      M        78.0\n",
       "8         98.4      F        84.0\n",
       "9         98.6      F        86.0"
      ]
     },
     "execution_count": 34,
     "metadata": {},
     "output_type": "execute_result"
    }
   ],
   "source": [
    "# quick look at the data\n",
    "\n",
    "df.head (10)"
   ]
  },
  {
   "cell_type": "code",
   "execution_count": 26,
   "metadata": {
    "collapsed": false
   },
   "outputs": [
    {
     "data": {
      "text/plain": [
       "[<matplotlib.lines.Line2D at 0x7ce430d7b8>,\n",
       " <matplotlib.lines.Line2D at 0x7ce430d978>]"
      ]
     },
     "execution_count": 26,
     "metadata": {},
     "output_type": "execute_result"
    },
    {
     "data": {
      "image/png": "[encoded data removed]",
      "text/plain": [
       "<matplotlib.figure.Figure at 0x7ce4439f28>"
      ]
     },
     "metadata": {},
     "output_type": "display_data"
    }
   ],
   "source": [
    "#look at the frequency plot the temperatures\n",
    "freq_temp= df.groupby(by=df.temperature).count()\n",
    "plt.plot(freq_temp)\n"
   ]
  },
  {
   "cell_type": "code",
   "execution_count": 21,
   "metadata": {
    "collapsed": false
   },
   "outputs": [
    {
     "data": {
      "text/plain": [
       "(0.9865769743919373, 0.2331680953502655)"
      ]
     },
     "execution_count": 21,
     "metadata": {},
     "output_type": "execute_result"
    }
   ],
   "source": [
    "#run a shapiro test on data\n",
    "#returs W(test statistic), p-value (for null hypothesis: distoribution is normal)\n",
    "#W should be greater than 9 or the p should be greater tha .05 for normality to be expected\n",
    "scipy.stats.shapiro(df.temperature, a=None, reta=False)"
   ]
  },
  {
   "cell_type": "markdown",
   "metadata": {},
   "source": [
    "### Answer 1: Visual and statistical tests indicate the temperature data are normally distribtued"
   ]
  },
  {
   "cell_type": "markdown",
   "metadata": {},
   "source": [
    "# Question 2: Is the sample size large? Are the observations independent? "
   ]
  },
  {
   "cell_type": "code",
   "execution_count": 24,
   "metadata": {
    "collapsed": false
   },
   "outputs": [
    {
     "data": {
      "text/plain": [
       "130"
      ]
     },
     "execution_count": 24,
     "metadata": {},
     "output_type": "execute_result"
    }
   ],
   "source": [
    "#sample size n >30 use Z statistic, <30 use t statistic\n",
    "\n",
    "#count the number of temperature data points to get sample size\n",
    "n= df.temperature.count()\n",
    "n"
   ]
  },
  {
   "cell_type": "code",
   "execution_count": null,
   "metadata": {
    "collapsed": true
   },
   "outputs": [],
   "source": [
    "\"\"\"when using an ANOVA to do hypothesis testing between populations\n",
    "it is important to check the heterogenity of variance \n",
    "as well as normality and independence. heterogenity of variance can be \n",
    "tested using the Levene test\"\"\""
   ]
  },
  {
   "cell_type": "code",
   "execution_count": 43,
   "metadata": {
    "collapsed": false
   },
   "outputs": [
    {
     "data": {
      "text/plain": [
       "LeveneResult(statistic=0.063549512920251613, pvalue=0.8013756068102883)"
      ]
     },
     "execution_count": 43,
     "metadata": {},
     "output_type": "execute_result"
    }
   ],
   "source": [
    "#levene test will be important when temperature is looked at by gender\n",
    "\n",
    "#subset data by gender\n",
    "female= df.temperature[df.gender ==\"F\"]\n",
    "male= df.temperature[df.gender==\"M\"] \n",
    "\n",
    "#Levene Test returs W(test statistic), p-value (for null hypothesis: equal variances)\n",
    "scipy.stats.levene(female, male)"
   ]
  },
  {
   "cell_type": "markdown",
   "metadata": {},
   "source": [
    "### Answer 2: The sample size is 130, which is considered large. Without knowledge of how the samples were taken it is assumed that each temperature measurement is independent of the others. "
   ]
  },
  {
   "cell_type": "markdown",
   "metadata": {},
   "source": [
    "# Question 3:   \n",
    "    A. Is the true population mean really 98.6 degrees F?  \n",
    "    B. Would you use a one-sample or two-sample test? Why?  \n",
    "    C. In this situation, is it appropriate to use the tt or zz statistic?  \n",
    "    D. Now try using the other test. How is the result be different? Why? "
   ]
  },
  {
   "cell_type": "code",
   "execution_count": 119,
   "metadata": {
    "collapsed": false
   },
   "outputs": [
    {
     "name": "stdout",
     "output_type": "stream",
     "text": [
      "the sample mean is 98.24923076923078\n"
     ]
    }
   ],
   "source": [
    "#3A using resampling\n",
    "#hyposthesis = population mean is 98.6 \n",
    "#what is the probability the true mean is 98.6 given our sample data?\n",
    "\n",
    "print( \"The sample mean is\", str(df.temperature.mean()))"
   ]
  },
  {
   "cell_type": "code",
   "execution_count": 208,
   "metadata": {
    "collapsed": false
   },
   "outputs": [
    {
     "data": {
      "image/png": "[encoded data removed]",
      "text/plain": [
       "<matplotlib.figure.Figure at 0x7ce037fa90>"
      ]
     },
     "metadata": {},
     "output_type": "display_data"
    }
   ],
   "source": [
    "#get class from Allen Downey tutorial \"CompStats\" to bootstrap our sample\n",
    "def make_sample(n=130):\n",
    "    sample = df.temperature.sample(n, replace=True)\n",
    "    return sample\n",
    "\n",
    "def sample_stat(sample):\n",
    "    return sample.mean()\n",
    "\n",
    "def compute_sample_statistics(n=130, iters=1000):\n",
    "    stats = [sample_stat(make_sample(n)) for i in range(iters)]\n",
    "    return np.array(stats)\n",
    "\n",
    "sample_means = compute_sample_statistics(n=130, iters=1000)\n",
    "\n",
    "plt.hist(sample_means)\n",
    "plt.xlabel('sample mean (n=130)')\n",
    "plt.ylabel('count')\n",
    "None"
   ]
  },
  {
   "cell_type": "code",
   "execution_count": 155,
   "metadata": {
    "collapsed": false
   },
   "outputs": [
    {
     "name": "stdout",
     "output_type": "stream",
     "text": [
      "The mean of the sample mean distribtuion is 98.2492746154 and the standard error is 0.0658058276542\n"
     ]
    }
   ],
   "source": [
    "print (\"The mean of the sample mean distribtuion is\", str(sample_means.mean()), \"and the standard error is\",  \n",
    "       str(sample_means.std()))"
   ]
  },
  {
   "cell_type": "code",
   "execution_count": 156,
   "metadata": {
    "collapsed": false
   },
   "outputs": [
    {
     "name": "stdout",
     "output_type": "stream",
     "text": [
      "98.6 is 5.32970098725 standard devations away from the mean\n"
     ]
    }
   ],
   "source": [
    "mean1 = sample_means.mean()\n",
    "SE = sample_means.std()\n",
    "mm= (98.6 - mean1)/SE\n",
    "\n",
    "print (\"98.6 is\", str(mm), \"standard devations away from the mean\")\n"
   ]
  },
  {
   "cell_type": "code",
   "execution_count": 185,
   "metadata": {
    "collapsed": false
   },
   "outputs": [
    {
     "name": "stdout",
     "output_type": "stream",
     "text": [
      "Using resampling, the likelihood of getting a mean of 98.6, given our sample is 4.91872987896e-08\n"
     ]
    }
   ],
   "source": [
    "print( \"Using resampling, the likelihood of getting a mean of 98.6, given our sample is\", str(1-scipy.special.ndtr(mm)) )"
   ]
  },
  {
   "cell_type": "code",
   "execution_count": 188,
   "metadata": {
    "collapsed": false
   },
   "outputs": [
    {
     "name": "stdout",
     "output_type": "stream",
     "text": [
      "Using Z-statistic, the likelihood of getting a mean of 98.6, given our sample is 0.683824225169\n"
     ]
    }
   ],
   "source": [
    "#3A using z-stat 1 tail test\n",
    "a = np.array(df.temperature)\n",
    "x= a.mean()\n",
    "sd= a.std(ddof=1)\n",
    "z= (x-98.6) / sd\n",
    "\n",
    "print( \"Using Z-statistic, the likelihood of getting our sample mean given a true population mean of 98.6 is \", str(scipy.stats.norm.sf(z)))\n",
    "\n",
    "#3A using t-test 1 sample\n",
    "#scipy.stats.ttest_1samp(a=a, popmean=98.6)"
   ]
  },
  {
   "cell_type": "code",
   "execution_count": null,
   "metadata": {
    "collapsed": false
   },
   "outputs": [],
   "source": [
    "#3D using a two-sample z test, between Males and Females\n",
    "#hypothesis, there is not difference in average body temperuture between males nad females"
   ]
  },
  {
   "cell_type": "code",
   "execution_count": 199,
   "metadata": {
    "collapsed": false
   },
   "outputs": [],
   "source": [
    "#setting up variables\n",
    "fmean= female.mean()\n",
    "mmean= male.mean()\n",
    "diffmean=(fmean-mmean)\n",
    "fSE = scipy.stats.sem(female, ddof=1)\n",
    "mSE = scipy.stats.sem(male, ddof=1)\n",
    "diffSE= ((fSE**2)+(mSE**2))**.5"
   ]
  },
  {
   "cell_type": "code",
   "execution_count": 203,
   "metadata": {
    "collapsed": false
   },
   "outputs": [
    {
     "name": "stdout",
     "output_type": "stream",
     "text": [
      "Using Z-statistic, the likelihood of getting a difference between male and female body temperature of  0.289230769230727 is 0.0111436803803\n"
     ]
    }
   ],
   "source": [
    "#calcualte two sample z- score\n",
    "\n",
    "z= (diffmean - 0)/diffSE\n",
    "p= scipy.stats.norm.sf(z)\n",
    "\n",
    "print( \"Using Z-statistic, the probability of getting a difference between male and female body temperature of \",\n",
    "      str(diffmean), \"is\", str(p))\n"
   ]
  },
  {
   "cell_type": "markdown",
   "metadata": {},
   "source": [
    "### Answer 3:  \n",
    "    A. Using a reampling method, it is very unlikely the true mean of body temperature is 98.6. However, calcuating a Z -statistic shows that there is a 68% likeihood of getting our sample mean given a true population mean of 98.6\n",
    "    B. I used a one sample z-test because we are using the entire population as our pool. I could use a two-sample test to investigate if Females and Males have the same body temperature on average.\n",
    "    C. In this situation it is appropriate to use a Z statistic becuase the sample size is larger than 30.\n",
    "    D. Using a two-sample test compares the diffence in body temperatures between males and females. My analysis indicates it is likely that there is a difference between average male and female body temperature.\n",
    "    "
   ]
  },
  {
   "cell_type": "markdown",
   "metadata": {},
   "source": [
    "# Question 4: At what temperature should we consider someone's temperature to be \"abnormal\"? "
   ]
  },
  {
   "cell_type": "code",
   "execution_count": 211,
   "metadata": {
    "collapsed": false
   },
   "outputs": [
    {
     "data": {
      "text/plain": [
       "((97.520110997882298, 98.9783505405792),\n",
       " (96.812218185403083, 99.686243353058416))"
      ]
     },
     "execution_count": 211,
     "metadata": {},
     "output_type": "execute_result"
    }
   ],
   "source": [
    "#caclulate a 95% confidence interval around the sample mean\n",
    "mean= a.mean()\n",
    "sigma = a.std(ddof=1)\n",
    "conf_int68 = scipy.stats.norm.interval(0.68, loc=mean, scale=sigma)\n",
    "conf_int95 = scipy.stats.norm.interval(0.95, loc=mean, scale=sigma)\n",
    "conf_int68, conf_int95"
   ]
  },
  {
   "cell_type": "markdown",
   "metadata": {},
   "source": [
    "### Answer 4: An abnormal temperature is below 97.5 and above 99.0. A very abnormal temperature is below 96.8 and above 99.7 degrees F"
   ]
  },
  {
   "cell_type": "markdown",
   "metadata": {},
   "source": [
    "# Question 5: Is there a significant difference between males and females in normal temperature?  \n",
    "    A. What test did you use and why?  \n",
    "    B. Write a story with your conclusion in the context of the original problem. "
   ]
  },
  {
   "cell_type": "code",
   "execution_count": 213,
   "metadata": {
    "collapsed": false
   },
   "outputs": [
    {
     "name": "stdout",
     "output_type": "stream",
     "text": [
      "Using Z-statistic, the probability of getting a difference between male and female body temperature of  0.289230769230727 is 0.0111436803803\n"
     ]
    }
   ],
   "source": [
    "#Q5 using a two-sample z test, between Males and Females\n",
    "#hypothesis, there is not difference in average body temperuture between males nad females\n",
    "#setting up variables\n",
    "fmean= female.mean()\n",
    "mmean= male.mean()\n",
    "diffmean=(fmean-mmean)\n",
    "fSE = scipy.stats.sem(female, ddof=1)\n",
    "mSE = scipy.stats.sem(male, ddof=1)\n",
    "diffSE= ((fSE**2)+(mSE**2))**.5\n",
    "\n",
    "#calcualte two sample z- score\n",
    "\n",
    "z= (diffmean - 0)/diffSE\n",
    "p= scipy.stats.norm.sf(z)\n",
    "\n",
    "print( \"Using Z-statistic, the probability of getting a difference between male and female body temperature of \",\n",
    "      str(diffmean), \"is\", str(p))\n"
   ]
  },
  {
   "cell_type": "code",
   "execution_count": 214,
   "metadata": {
    "collapsed": false
   },
   "outputs": [
    {
     "data": {
      "text/plain": [
       "F_onewayResult(statistic=5.2232110282402724, pvalue=0.023931883122395092)"
      ]
     },
     "execution_count": 214,
     "metadata": {},
     "output_type": "execute_result"
    }
   ],
   "source": [
    "#Q5 using anova\n",
    "scipy.stats.f_oneway(female, male)  \n"
   ]
  },
  {
   "cell_type": "code",
   "execution_count": 215,
   "metadata": {
    "collapsed": false
   },
   "outputs": [
    {
     "name": "stdout",
     "output_type": "stream",
     "text": [
      "female average 98.39384615384613  and male average 98.1046153846154\n"
     ]
    }
   ],
   "source": [
    "print (\"female average\", str(fmean), \" and male average\", str(mmean))"
   ]
  },
  {
   "cell_type": "markdown",
   "metadata": {},
   "source": [
    "### Answer 5:   \n",
    "  A. It is very likely that there is a difference in average body temperature between men and women. I used a two-sample z test and an ANOVA to check this.    \n",
    "  B. The original problem was to investigate the data based on the assumption that the average body temperature of all people is 98.6  degrees F. With the sample data provided, it is unlikey that the average temperature is 98.6, even when split between males and females the average temperatures of each group are a few tenths of a degree lower than 98.6. However, with a small sample size, 98.6 could easily be obtained as an average. Given the sample of 130 people, the confidence internal of 95% includes means all the way up to 99.7 degrees F."
   ]
  }
 ],
 "metadata": {
  "kernelspec": {
   "display_name": "Python 3",
   "language": "python",
   "name": "python3"
  },
  "language_info": {
   "codemirror_mode": {
    "name": "ipython",
    "version": 3
   },
   "file_extension": ".py",
   "mimetype": "text/x-python",
   "name": "python",
   "nbconvert_exporter": "python",
   "pygments_lexer": "ipython3",
   "version": "3.6.0"
  }
 },
 "nbformat": 4,
 "nbformat_minor": 0
}
